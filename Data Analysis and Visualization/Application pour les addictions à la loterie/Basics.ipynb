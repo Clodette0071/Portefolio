{
 "cells": [
  {
   "cell_type": "markdown",
   "metadata": {},
   "source": [
    "## Estimer les chances de gagner à la lotterie : Le [Lotto6/49](https://en.wikipedia.org/wiki/Lotto_6/49)"
   ]
  },
  {
   "cell_type": "markdown",
   "metadata": {},
   "source": [
    "### Introduction\n",
    "L'objectif de cet présentation est de calculer les chances de gagner au lotto.\n",
    "On veut pouvoir répondre aux questions suivantes :\n",
    "    - Quelle est la probabilité d'avoir le gros lot en ayant acheté un seul ticket?\n",
    "    - Quelle est la probabilité de gagner le gros lot en ayant acheté 40 tickets différents (ou n'importe quel autre nombre)\n",
    "    - Quelle est la probabilité d'avoir au moins 5 (ou moins) numéros gagnants sur un seul ticket?\n",
    "\n",
    "Le lotto6/49 est un jeu de lotterie canadien où les utilisateurs choisissent une combinaison de 6 nombres dans un ensemble de 49 nombres allant de 1 à 49.\n",
    "Le tirage est sans remise et ils ont la possibilité de remplir plusieurs lignes (jusqu'à 10).\n",
    "Le premier prix est obtenu par un joueur si les 6 nombres qu'il propose sont tirés. \n",
    "Deux autres prix spéciaux de valeur moindre sont accordés aux personnes ayant trouvé les bonnes combinaisons de respectivement 5 et 2 nombres. "
   ]
  },
  {
   "cell_type": "code",
   "execution_count": 52,
   "metadata": {
    "collapsed": false
   },
   "outputs": [
    {
     "data": {
      "text/plain": [
       "'La combinaison [1, 2, 3, 4, 5, 6] a 7.151123842018516e-06% chances de remporter le premier prix.'"
      ]
     },
     "execution_count": 52,
     "metadata": {},
     "output_type": "execute_result"
    }
   ],
   "source": [
    "# fonctions pour calculer le nombre de combinaisons \n",
    "# possibles et la probabilité de remporter une combinaison juste\n",
    "def factoriel(n):\n",
    "    facto = 1\n",
    "    for i in range(n): \n",
    "        facto *= (i+1)\n",
    "    return facto\n",
    "\n",
    "def combinaisons(n,k):\n",
    "    numerateur = factoriel(n)\n",
    "    denominateur = factoriel(n-k)\n",
    "    return numerateur/(factoriel(k)*denominateur) \n",
    "\n",
    "def probabilite_un_ticket(liste):\n",
    "    c = combinaisons(49,6)\n",
    "    p = (1/c)*100\n",
    "    message = 'La combinaison {0} a {1}% chances de remporter le premier prix.'.format(liste, p)\n",
    "    return (message)\n",
    "\n",
    "probabilite_un_ticket([1,2,3,4,5,6])\n",
    "    "
   ]
  },
  {
   "cell_type": "markdown",
   "metadata": {},
   "source": [
    "#### Lecture /analyse des données historiques de tirages du loto 6/49 disponibles sur [Kaggle](https://www.kaggle.com/datascienceai/lottery-dataset)\n",
    "Le jeu de données '649.csv' fournit les données des tirages qui ont été faits depuis 1982 jusqu'à 2018. \n",
    "L'objectif est de comparer si une proposition donnée aujourd'hui a une fois été tirée au sort."
   ]
  },
  {
   "cell_type": "code",
   "execution_count": 1,
   "metadata": {
    "collapsed": false
   },
   "outputs": [
    {
     "name": "stdout",
     "output_type": "stream",
     "text": [
      "(3665, 11)\n"
     ]
    }
   ],
   "source": [
    "import pandas as pd\n",
    "donnees = pd.read_csv('649.csv')\n",
    "print(donnees.shape)"
   ]
  },
  {
   "cell_type": "code",
   "execution_count": 46,
   "metadata": {
    "collapsed": false
   },
   "outputs": [
    {
     "data": {
      "text/html": [
       "<div>\n",
       "<style scoped>\n",
       "    .dataframe tbody tr th:only-of-type {\n",
       "        vertical-align: middle;\n",
       "    }\n",
       "\n",
       "    .dataframe tbody tr th {\n",
       "        vertical-align: top;\n",
       "    }\n",
       "\n",
       "    .dataframe thead th {\n",
       "        text-align: right;\n",
       "    }\n",
       "</style>\n",
       "<table border=\"1\" class=\"dataframe\">\n",
       "  <thead>\n",
       "    <tr style=\"text-align: right;\">\n",
       "      <th></th>\n",
       "      <th>PRODUCT</th>\n",
       "      <th>DRAW NUMBER</th>\n",
       "      <th>SEQUENCE NUMBER</th>\n",
       "      <th>DRAW DATE</th>\n",
       "      <th>NUMBER DRAWN 1</th>\n",
       "      <th>NUMBER DRAWN 2</th>\n",
       "      <th>NUMBER DRAWN 3</th>\n",
       "      <th>NUMBER DRAWN 4</th>\n",
       "      <th>NUMBER DRAWN 5</th>\n",
       "      <th>NUMBER DRAWN 6</th>\n",
       "      <th>BONUS NUMBER</th>\n",
       "    </tr>\n",
       "  </thead>\n",
       "  <tbody>\n",
       "    <tr>\n",
       "      <th>0</th>\n",
       "      <td>649</td>\n",
       "      <td>1</td>\n",
       "      <td>0</td>\n",
       "      <td>6/12/1982</td>\n",
       "      <td>3</td>\n",
       "      <td>11</td>\n",
       "      <td>12</td>\n",
       "      <td>14</td>\n",
       "      <td>41</td>\n",
       "      <td>43</td>\n",
       "      <td>13</td>\n",
       "    </tr>\n",
       "    <tr>\n",
       "      <th>1</th>\n",
       "      <td>649</td>\n",
       "      <td>2</td>\n",
       "      <td>0</td>\n",
       "      <td>6/19/1982</td>\n",
       "      <td>8</td>\n",
       "      <td>33</td>\n",
       "      <td>36</td>\n",
       "      <td>37</td>\n",
       "      <td>39</td>\n",
       "      <td>41</td>\n",
       "      <td>9</td>\n",
       "    </tr>\n",
       "    <tr>\n",
       "      <th>2</th>\n",
       "      <td>649</td>\n",
       "      <td>3</td>\n",
       "      <td>0</td>\n",
       "      <td>6/26/1982</td>\n",
       "      <td>1</td>\n",
       "      <td>6</td>\n",
       "      <td>23</td>\n",
       "      <td>24</td>\n",
       "      <td>27</td>\n",
       "      <td>39</td>\n",
       "      <td>34</td>\n",
       "    </tr>\n",
       "    <tr>\n",
       "      <th>3</th>\n",
       "      <td>649</td>\n",
       "      <td>4</td>\n",
       "      <td>0</td>\n",
       "      <td>7/3/1982</td>\n",
       "      <td>3</td>\n",
       "      <td>9</td>\n",
       "      <td>10</td>\n",
       "      <td>13</td>\n",
       "      <td>20</td>\n",
       "      <td>43</td>\n",
       "      <td>34</td>\n",
       "    </tr>\n",
       "    <tr>\n",
       "      <th>4</th>\n",
       "      <td>649</td>\n",
       "      <td>5</td>\n",
       "      <td>0</td>\n",
       "      <td>7/10/1982</td>\n",
       "      <td>5</td>\n",
       "      <td>14</td>\n",
       "      <td>21</td>\n",
       "      <td>31</td>\n",
       "      <td>34</td>\n",
       "      <td>47</td>\n",
       "      <td>45</td>\n",
       "    </tr>\n",
       "  </tbody>\n",
       "</table>\n",
       "</div>"
      ],
      "text/plain": [
       "   PRODUCT  DRAW NUMBER  SEQUENCE NUMBER  DRAW DATE  NUMBER DRAWN 1  \\\n",
       "0      649            1                0  6/12/1982               3   \n",
       "1      649            2                0  6/19/1982               8   \n",
       "2      649            3                0  6/26/1982               1   \n",
       "3      649            4                0   7/3/1982               3   \n",
       "4      649            5                0  7/10/1982               5   \n",
       "\n",
       "   NUMBER DRAWN 2  NUMBER DRAWN 3  NUMBER DRAWN 4  NUMBER DRAWN 5  \\\n",
       "0              11              12              14              41   \n",
       "1              33              36              37              39   \n",
       "2               6              23              24              27   \n",
       "3               9              10              13              20   \n",
       "4              14              21              31              34   \n",
       "\n",
       "   NUMBER DRAWN 6  BONUS NUMBER  \n",
       "0              43            13  \n",
       "1              41             9  \n",
       "2              39            34  \n",
       "3              43            34  \n",
       "4              47            45  "
      ]
     },
     "execution_count": 46,
     "metadata": {},
     "output_type": "execute_result"
    }
   ],
   "source": [
    "donnees.head(5)"
   ]
  },
  {
   "cell_type": "code",
   "execution_count": 12,
   "metadata": {
    "collapsed": false
   },
   "outputs": [
    {
     "data": {
      "text/html": [
       "<div>\n",
       "<style scoped>\n",
       "    .dataframe tbody tr th:only-of-type {\n",
       "        vertical-align: middle;\n",
       "    }\n",
       "\n",
       "    .dataframe tbody tr th {\n",
       "        vertical-align: top;\n",
       "    }\n",
       "\n",
       "    .dataframe thead th {\n",
       "        text-align: right;\n",
       "    }\n",
       "</style>\n",
       "<table border=\"1\" class=\"dataframe\">\n",
       "  <thead>\n",
       "    <tr style=\"text-align: right;\">\n",
       "      <th></th>\n",
       "      <th>PRODUCT</th>\n",
       "      <th>DRAW NUMBER</th>\n",
       "      <th>SEQUENCE NUMBER</th>\n",
       "      <th>DRAW DATE</th>\n",
       "      <th>NUMBER DRAWN 1</th>\n",
       "      <th>NUMBER DRAWN 2</th>\n",
       "      <th>NUMBER DRAWN 3</th>\n",
       "      <th>NUMBER DRAWN 4</th>\n",
       "      <th>NUMBER DRAWN 5</th>\n",
       "      <th>NUMBER DRAWN 6</th>\n",
       "      <th>BONUS NUMBER</th>\n",
       "    </tr>\n",
       "  </thead>\n",
       "  <tbody>\n",
       "    <tr>\n",
       "      <th>3662</th>\n",
       "      <td>649</td>\n",
       "      <td>3589</td>\n",
       "      <td>0</td>\n",
       "      <td>6/13/2018</td>\n",
       "      <td>6</td>\n",
       "      <td>22</td>\n",
       "      <td>24</td>\n",
       "      <td>31</td>\n",
       "      <td>32</td>\n",
       "      <td>34</td>\n",
       "      <td>16</td>\n",
       "    </tr>\n",
       "    <tr>\n",
       "      <th>3663</th>\n",
       "      <td>649</td>\n",
       "      <td>3590</td>\n",
       "      <td>0</td>\n",
       "      <td>6/16/2018</td>\n",
       "      <td>2</td>\n",
       "      <td>15</td>\n",
       "      <td>21</td>\n",
       "      <td>31</td>\n",
       "      <td>38</td>\n",
       "      <td>49</td>\n",
       "      <td>8</td>\n",
       "    </tr>\n",
       "    <tr>\n",
       "      <th>3664</th>\n",
       "      <td>649</td>\n",
       "      <td>3591</td>\n",
       "      <td>0</td>\n",
       "      <td>6/20/2018</td>\n",
       "      <td>14</td>\n",
       "      <td>24</td>\n",
       "      <td>31</td>\n",
       "      <td>35</td>\n",
       "      <td>37</td>\n",
       "      <td>48</td>\n",
       "      <td>17</td>\n",
       "    </tr>\n",
       "  </tbody>\n",
       "</table>\n",
       "</div>"
      ],
      "text/plain": [
       "      PRODUCT  DRAW NUMBER  SEQUENCE NUMBER  DRAW DATE  NUMBER DRAWN 1  \\\n",
       "3662      649         3589                0  6/13/2018               6   \n",
       "3663      649         3590                0  6/16/2018               2   \n",
       "3664      649         3591                0  6/20/2018              14   \n",
       "\n",
       "      NUMBER DRAWN 2  NUMBER DRAWN 3  NUMBER DRAWN 4  NUMBER DRAWN 5  \\\n",
       "3662              22              24              31              32   \n",
       "3663              15              21              31              38   \n",
       "3664              24              31              35              37   \n",
       "\n",
       "      NUMBER DRAWN 6  BONUS NUMBER  \n",
       "3662              34            16  \n",
       "3663              49             8  \n",
       "3664              48            17  "
      ]
     },
     "execution_count": 12,
     "metadata": {},
     "output_type": "execute_result"
    }
   ],
   "source": [
    "donnees.tail(3)"
   ]
  },
  {
   "cell_type": "code",
   "execution_count": 5,
   "metadata": {
    "collapsed": false
   },
   "outputs": [
    {
     "data": {
      "text/plain": [
       "PRODUCT             int64\n",
       "DRAW NUMBER         int64\n",
       "SEQUENCE NUMBER     int64\n",
       "DRAW DATE          object\n",
       "NUMBER DRAWN 1      int64\n",
       "NUMBER DRAWN 2      int64\n",
       "NUMBER DRAWN 3      int64\n",
       "NUMBER DRAWN 4      int64\n",
       "NUMBER DRAWN 5      int64\n",
       "NUMBER DRAWN 6      int64\n",
       "BONUS NUMBER        int64\n",
       "dtype: object"
      ]
     },
     "execution_count": 5,
     "metadata": {},
     "output_type": "execute_result"
    }
   ],
   "source": [
    "donnees.dtypes"
   ]
  },
  {
   "cell_type": "code",
   "execution_count": 49,
   "metadata": {
    "collapsed": false
   },
   "outputs": [
    {
     "data": {
      "text/plain": [
       "\"La proposition [27, 30, 49, 12, 6, 18] a déjà été tirée 0 fois dans toute l'histoire du jeu\""
      ]
     },
     "execution_count": 49,
     "metadata": {},
     "output_type": "execute_result"
    }
   ],
   "source": [
    "#extraire les nombres des colonnes 4 à 9 du dataframe\n",
    "def extraction(row):\n",
    "    ens = set(row[4:10])\n",
    "    return ens\n",
    "\n",
    "#compter le nombre de fois une proposition donnée a déjà été tirée \n",
    "#depuis le début du jeu\n",
    "def verif_occurence_histo(liste, series):\n",
    "    ens1 = set(liste)\n",
    "    serie = pd.Series([ens1==el[1] for el in series.iteritems()])\n",
    "    decompte = serie.sum()\n",
    "    message = \"La proposition {0} a déjà été tirée {1} fois dans toute l'histoire du jeu\".format(liste, decompte)\n",
    "    return (message)\n",
    "\n",
    "#Tests\n",
    "#extraction des numéros tirés+conversion en série\n",
    "prop = list()\n",
    "for elmt in donnees.iterrows() :\n",
    "    prop.append(extraction(elmt[1]))\n",
    "tirages = pd.Series(prop)\n",
    "#vérification de la proposition\n",
    "liste=[27,30,49,12,6, 18]\n",
    "verif_occurence_histo(liste, tirages)"
   ]
  },
  {
   "cell_type": "code",
   "execution_count": 50,
   "metadata": {
    "collapsed": false
   },
   "outputs": [
    {
     "data": {
      "text/plain": [
       "\"La proposition [8, 33, 36, 37, 39, 41] a déjà été tirée 1 fois dans toute l'histoire du jeu\""
      ]
     },
     "execution_count": 50,
     "metadata": {},
     "output_type": "execute_result"
    }
   ],
   "source": [
    "liste2 = [8, 33, 36, 37, 39, 41]\n",
    "verif_occurence_histo(liste2, tirages)"
   ]
  },
  {
   "cell_type": "markdown",
   "metadata": {},
   "source": [
    "#### Calcul de la probabilité de remporter le 1er prix en fonction du nombre de tickets joués \n",
    "L'objectif est d'observer dans quelle mesure le fait de jouer plusieurs tickets améliore les chances de gagner"
   ]
  },
  {
   "cell_type": "code",
   "execution_count": 56,
   "metadata": {
    "collapsed": false
   },
   "outputs": [
    {
     "name": "stdout",
     "output_type": "stream",
     "text": [
      " 1 ticket(s) donne 7.151123842018516e-06% chances de remporter le premier prix.\n",
      " 10 ticket(s) donne 7.151123842018517e-05% chances de remporter le premier prix.\n",
      " 100 ticket(s) donne 0.0007151123842018516% chances de remporter le premier prix.\n",
      " 10000 ticket(s) donne 0.07151123842018516% chances de remporter le premier prix.\n",
      " 1000000 ticket(s) donne 7.151123842018517% chances de remporter le premier prix.\n",
      " 6991908 ticket(s) donne 50.0% chances de remporter le premier prix.\n",
      " 13983816 ticket(s) donne 100.0% chances de remporter le premier prix.\n"
     ]
    }
   ],
   "source": [
    "def probabilite_plusieurs_tickets(n):\n",
    "    c = combinaisons(49,6)\n",
    "    p = (n/c)*100\n",
    "    message = ' {0} ticket(s) donne {1}% chances de remporter le premier prix.'.format(n, p)\n",
    "    return (print(message))\n",
    "\n",
    "#Tests\n",
    "liste3 = [1, 10, 100, 10000, 1000000, 6991908, 13983816]\n",
    "for elmt in liste3:\n",
    "    probabilite_plusieurs_tickets(elmt)"
   ]
  },
  {
   "cell_type": "markdown",
   "metadata": {},
   "source": [
    "#### Calcul de la probabilité de remporter un des prix intermédiaires (entre 2 à 5 nombres gagnants)\n"
   ]
  },
  {
   "cell_type": "code",
   "execution_count": 60,
   "metadata": {
    "collapsed": false
   },
   "outputs": [
    {
     "name": "stdout",
     "output_type": "stream",
     "text": [
      "Les chances d'avoir 2 nombres gagnants est de 19.132653061224488%.\n",
      "Les chances d'avoir 3 nombres gagnants est de 2.1710811984368217%.\n",
      "Les chances d'avoir 4 nombres gagnants est de 0.10619418905397496%.\n",
      "Les chances d'avoir 5 nombres gagnants est de 0.0018878966942928882%.\n"
     ]
    }
   ],
   "source": [
    "def probabilite_moins_6(i):\n",
    "    c1 = combinaisons(6,i)\n",
    "    succes = combinaisons(49-i,6-i)\n",
    "    c2 = combinaisons(49,6)\n",
    "    p = ((c1*succes)/c2)*100\n",
    "    message = \"Les chances d'avoir {0} nombres gagnants est de {1}%.\".format(i, p)\n",
    "    return (print(message))\n",
    "\n",
    "#Tests\n",
    "liste4=[2,3,4,5]\n",
    "for elmt in liste4:\n",
    "    probabilite_moins_6(elmt)"
   ]
  },
  {
   "cell_type": "code",
   "execution_count": null,
   "metadata": {
    "collapsed": true
   },
   "outputs": [],
   "source": []
  }
 ],
 "metadata": {
  "kernelspec": {
   "display_name": "Python 3",
   "language": "python",
   "name": "python3"
  },
  "language_info": {
   "codemirror_mode": {
    "name": "ipython",
    "version": 3
   },
   "file_extension": ".py",
   "mimetype": "text/x-python",
   "name": "python",
   "nbconvert_exporter": "python",
   "pygments_lexer": "ipython3",
   "version": "3.4.3"
  }
 },
 "nbformat": 4,
 "nbformat_minor": 2
}
