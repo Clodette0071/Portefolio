{
 "cells": [
  {
   "cell_type": "code",
   "execution_count": 1,
   "metadata": {
    "scrolled": true
   },
   "outputs": [
    {
     "data": {
      "text/html": [
       "<div>\n",
       "<style scoped>\n",
       "    .dataframe tbody tr th:only-of-type {\n",
       "        vertical-align: middle;\n",
       "    }\n",
       "\n",
       "    .dataframe tbody tr th {\n",
       "        vertical-align: top;\n",
       "    }\n",
       "\n",
       "    .dataframe thead th {\n",
       "        text-align: right;\n",
       "    }\n",
       "</style>\n",
       "<table border=\"1\" class=\"dataframe\">\n",
       "  <thead>\n",
       "    <tr style=\"text-align: right;\">\n",
       "      <th></th>\n",
       "      <th>name</th>\n",
       "      <th>type</th>\n",
       "    </tr>\n",
       "  </thead>\n",
       "  <tbody>\n",
       "    <tr>\n",
       "      <th>0</th>\n",
       "      <td>album</td>\n",
       "      <td>table</td>\n",
       "    </tr>\n",
       "    <tr>\n",
       "      <th>1</th>\n",
       "      <td>artist</td>\n",
       "      <td>table</td>\n",
       "    </tr>\n",
       "    <tr>\n",
       "      <th>2</th>\n",
       "      <td>customer</td>\n",
       "      <td>table</td>\n",
       "    </tr>\n",
       "    <tr>\n",
       "      <th>3</th>\n",
       "      <td>employee</td>\n",
       "      <td>table</td>\n",
       "    </tr>\n",
       "    <tr>\n",
       "      <th>4</th>\n",
       "      <td>genre</td>\n",
       "      <td>table</td>\n",
       "    </tr>\n",
       "    <tr>\n",
       "      <th>5</th>\n",
       "      <td>invoice</td>\n",
       "      <td>table</td>\n",
       "    </tr>\n",
       "    <tr>\n",
       "      <th>6</th>\n",
       "      <td>invoice_line</td>\n",
       "      <td>table</td>\n",
       "    </tr>\n",
       "    <tr>\n",
       "      <th>7</th>\n",
       "      <td>media_type</td>\n",
       "      <td>table</td>\n",
       "    </tr>\n",
       "    <tr>\n",
       "      <th>8</th>\n",
       "      <td>playlist</td>\n",
       "      <td>table</td>\n",
       "    </tr>\n",
       "    <tr>\n",
       "      <th>9</th>\n",
       "      <td>playlist_track</td>\n",
       "      <td>table</td>\n",
       "    </tr>\n",
       "    <tr>\n",
       "      <th>10</th>\n",
       "      <td>track</td>\n",
       "      <td>table</td>\n",
       "    </tr>\n",
       "    <tr>\n",
       "      <th>11</th>\n",
       "      <td>depenses_par_cons</td>\n",
       "      <td>view</td>\n",
       "    </tr>\n",
       "    <tr>\n",
       "      <th>12</th>\n",
       "      <td>all_tracks_genre</td>\n",
       "      <td>view</td>\n",
       "    </tr>\n",
       "    <tr>\n",
       "      <th>13</th>\n",
       "      <td>donnees_vente_pays</td>\n",
       "      <td>view</td>\n",
       "    </tr>\n",
       "  </tbody>\n",
       "</table>\n",
       "</div>"
      ],
      "text/plain": [
       "                  name   type\n",
       "0                album  table\n",
       "1               artist  table\n",
       "2             customer  table\n",
       "3             employee  table\n",
       "4                genre  table\n",
       "5              invoice  table\n",
       "6         invoice_line  table\n",
       "7           media_type  table\n",
       "8             playlist  table\n",
       "9       playlist_track  table\n",
       "10               track  table\n",
       "11   depenses_par_cons   view\n",
       "12    all_tracks_genre   view\n",
       "13  donnees_vente_pays   view"
      ]
     },
     "execution_count": 1,
     "metadata": {},
     "output_type": "execute_result"
    }
   ],
   "source": [
    "import sqlite3 as sq\n",
    "import pandas as pd\n",
    "import matplotlib.pyplot as plt\n",
    "import numpy as np\n",
    "from matplotlib import cm\n",
    "\n",
    "%matplotlib inline\n",
    "\n",
    "def run_query(q):\n",
    "    with sq.connect('chinook.db') as conn:\n",
    "        return pd.read_sql(q, conn)\n",
    "\n",
    "def run_command(c):\n",
    "    with sq.connect('chinook.db') as conn:\n",
    "        conn.isolation_level = None\n",
    "        conn.execute(c)\n",
    "\n",
    "def show_tables():\n",
    "    liste_tables=run_query(\"SELECT name,type FROM sqlite_master WHERE type IN ('table','view');\")\n",
    "    return(liste_tables)\n",
    "      \n",
    "\n",
    "show_tables()"
   ]
  },
  {
   "cell_type": "code",
   "execution_count": 35,
   "metadata": {},
   "outputs": [],
   "source": [
    "c1='CREATE VIEW all_tracks_genre AS SELECT t.*, g.name genre, SUM(il.quantity) quantity, i.billing_country country  FROM track t INNER JOIN genre g ON t.genre_id=g.genre_id INNER JOIN invoice_line il ON t.track_id=il.track_id INNER JOIN invoice i ON il.invoice_id=i.invoice_id WHERE country=\"USA\" GROUP BY (t.track_id);'\n",
    "run_command(c1)"
   ]
  },
  {
   "cell_type": "markdown",
   "metadata": {},
   "source": [
    "\n",
    "## Rechercher les genres les plus vendus aux USA"
   ]
  },
  {
   "cell_type": "code",
   "execution_count": 14,
   "metadata": {},
   "outputs": [
    {
     "data": {
      "text/html": [
       "<div>\n",
       "<style scoped>\n",
       "    .dataframe tbody tr th:only-of-type {\n",
       "        vertical-align: middle;\n",
       "    }\n",
       "\n",
       "    .dataframe tbody tr th {\n",
       "        vertical-align: top;\n",
       "    }\n",
       "\n",
       "    .dataframe thead th {\n",
       "        text-align: right;\n",
       "    }\n",
       "</style>\n",
       "<table border=\"1\" class=\"dataframe\">\n",
       "  <thead>\n",
       "    <tr style=\"text-align: right;\">\n",
       "      <th></th>\n",
       "      <th>genre</th>\n",
       "      <th>total_quantity</th>\n",
       "      <th>percentage</th>\n",
       "    </tr>\n",
       "  </thead>\n",
       "  <tbody>\n",
       "    <tr>\n",
       "      <th>0</th>\n",
       "      <td>Rock</td>\n",
       "      <td>561</td>\n",
       "      <td>53.377735</td>\n",
       "    </tr>\n",
       "    <tr>\n",
       "      <th>1</th>\n",
       "      <td>Alternative &amp; Punk</td>\n",
       "      <td>130</td>\n",
       "      <td>12.369172</td>\n",
       "    </tr>\n",
       "    <tr>\n",
       "      <th>2</th>\n",
       "      <td>Metal</td>\n",
       "      <td>124</td>\n",
       "      <td>11.798287</td>\n",
       "    </tr>\n",
       "    <tr>\n",
       "      <th>3</th>\n",
       "      <td>R&amp;B/Soul</td>\n",
       "      <td>53</td>\n",
       "      <td>5.042816</td>\n",
       "    </tr>\n",
       "    <tr>\n",
       "      <th>4</th>\n",
       "      <td>Blues</td>\n",
       "      <td>36</td>\n",
       "      <td>3.425309</td>\n",
       "    </tr>\n",
       "    <tr>\n",
       "      <th>5</th>\n",
       "      <td>Alternative</td>\n",
       "      <td>35</td>\n",
       "      <td>3.330162</td>\n",
       "    </tr>\n",
       "    <tr>\n",
       "      <th>6</th>\n",
       "      <td>Latin</td>\n",
       "      <td>22</td>\n",
       "      <td>2.093245</td>\n",
       "    </tr>\n",
       "    <tr>\n",
       "      <th>7</th>\n",
       "      <td>Pop</td>\n",
       "      <td>22</td>\n",
       "      <td>2.093245</td>\n",
       "    </tr>\n",
       "    <tr>\n",
       "      <th>8</th>\n",
       "      <td>Hip Hop/Rap</td>\n",
       "      <td>20</td>\n",
       "      <td>1.902950</td>\n",
       "    </tr>\n",
       "    <tr>\n",
       "      <th>9</th>\n",
       "      <td>Jazz</td>\n",
       "      <td>14</td>\n",
       "      <td>1.332065</td>\n",
       "    </tr>\n",
       "    <tr>\n",
       "      <th>10</th>\n",
       "      <td>Easy Listening</td>\n",
       "      <td>13</td>\n",
       "      <td>1.236917</td>\n",
       "    </tr>\n",
       "    <tr>\n",
       "      <th>11</th>\n",
       "      <td>Reggae</td>\n",
       "      <td>6</td>\n",
       "      <td>0.570885</td>\n",
       "    </tr>\n",
       "    <tr>\n",
       "      <th>12</th>\n",
       "      <td>Electronica/Dance</td>\n",
       "      <td>5</td>\n",
       "      <td>0.475737</td>\n",
       "    </tr>\n",
       "    <tr>\n",
       "      <th>13</th>\n",
       "      <td>Classical</td>\n",
       "      <td>4</td>\n",
       "      <td>0.380590</td>\n",
       "    </tr>\n",
       "    <tr>\n",
       "      <th>14</th>\n",
       "      <td>Heavy Metal</td>\n",
       "      <td>3</td>\n",
       "      <td>0.285442</td>\n",
       "    </tr>\n",
       "    <tr>\n",
       "      <th>15</th>\n",
       "      <td>Soundtrack</td>\n",
       "      <td>2</td>\n",
       "      <td>0.190295</td>\n",
       "    </tr>\n",
       "    <tr>\n",
       "      <th>16</th>\n",
       "      <td>TV Shows</td>\n",
       "      <td>1</td>\n",
       "      <td>0.095147</td>\n",
       "    </tr>\n",
       "  </tbody>\n",
       "</table>\n",
       "</div>"
      ],
      "text/plain": [
       "                 genre  total_quantity  percentage\n",
       "0                 Rock             561   53.377735\n",
       "1   Alternative & Punk             130   12.369172\n",
       "2                Metal             124   11.798287\n",
       "3             R&B/Soul              53    5.042816\n",
       "4                Blues              36    3.425309\n",
       "5          Alternative              35    3.330162\n",
       "6                Latin              22    2.093245\n",
       "7                  Pop              22    2.093245\n",
       "8          Hip Hop/Rap              20    1.902950\n",
       "9                 Jazz              14    1.332065\n",
       "10      Easy Listening              13    1.236917\n",
       "11              Reggae               6    0.570885\n",
       "12   Electronica/Dance               5    0.475737\n",
       "13           Classical               4    0.380590\n",
       "14         Heavy Metal               3    0.285442\n",
       "15          Soundtrack               2    0.190295\n",
       "16            TV Shows               1    0.095147"
      ]
     },
     "execution_count": 14,
     "metadata": {},
     "output_type": "execute_result"
    }
   ],
   "source": [
    "q2='SELECT a.genre, SUM(a.quantity) total_quantity, (CAST(SUM(a.quantity) as FLOAT)/(SELECT CAST(SUM(quantity) as FLOAT) FROM all_tracks_genre))*100 percentage FROM all_tracks_genre a GROUP BY a.genre ORDER BY percentage DESC;'\n",
    "top_genre_usa=run_query(q2)\n",
    "top_genre_usa"
   ]
  },
  {
   "cell_type": "code",
   "execution_count": 15,
   "metadata": {},
   "outputs": [
    {
     "data": {
      "image/png": "[encoded data removed]",
      "text/plain": [
       "<matplotlib.figure.Figure at 0x7efd6e8dcf60>"
      ]
     },
     "metadata": {},
     "output_type": "display_data"
    }
   ],
   "source": [
    "top_genre_usa.set_index('genre', drop=True, inplace=True)\n",
    "top_genre_usa.plot.bar()\n",
    "plt.show()"
   ]
  },
  {
   "cell_type": "markdown",
   "metadata": {},
   "source": [
    "L'ordre est clairement présenté sur la ficgure et dans le tableau \"top_genre_usa\"\n",
    "\n",
    "L'entreprise devrait donc privilégier Red Tone, Slim Jim Bites et Meteor and the Girls.\n",
    "Le hip hop n'est pas classé dans le top 3 des ventes de ce magasin aux USA"
   ]
  },
  {
   "cell_type": "markdown",
   "metadata": {},
   "source": [
    "## Rechercher les Sales Support Agent avec les meilleures ventes"
   ]
  },
  {
   "cell_type": "markdown",
   "metadata": {},
   "source": [
    "1- Créer la vue 'depenses_par_cons' qui montre toutes les dépenses par consommateur avec les informations de leur Sales Support agent"
   ]
  },
  {
   "cell_type": "code",
   "execution_count": 56,
   "metadata": {},
   "outputs": [],
   "source": [
    "c3=\"CREATE VIEW depenses_par_cons AS SELECT c.customer_id,(c.first_name||' '||c.last_name) customer_name, c.country\tcustomer_country, c.support_rep_id employe_support, i.billing_country, SUM(i.total) depenses_total, (e.first_name||' '||e.last_name) employe_name, e.title, e.hire_date, e.country employe_country FROM customer c INNER JOIN invoice i ON c.customer_id=i.customer_id INNER JOIN employee e ON c.support_rep_id=e.employee_id GROUP BY c.customer_id;\"\n",
    "run_command(c3)"
   ]
  },
  {
   "cell_type": "markdown",
   "metadata": {},
   "source": [
    "2- Sommer les dépenses de tous les consommateurs en les groupant par Sales Suport Agent"
   ]
  },
  {
   "cell_type": "code",
   "execution_count": 6,
   "metadata": {},
   "outputs": [
    {
     "data": {
      "text/html": [
       "<div>\n",
       "<style scoped>\n",
       "    .dataframe tbody tr th:only-of-type {\n",
       "        vertical-align: middle;\n",
       "    }\n",
       "\n",
       "    .dataframe tbody tr th {\n",
       "        vertical-align: top;\n",
       "    }\n",
       "\n",
       "    .dataframe thead th {\n",
       "        text-align: right;\n",
       "    }\n",
       "</style>\n",
       "<table border=\"1\" class=\"dataframe\">\n",
       "  <thead>\n",
       "    <tr style=\"text-align: right;\">\n",
       "      <th></th>\n",
       "      <th>employe_name</th>\n",
       "      <th>employe_country</th>\n",
       "      <th>title</th>\n",
       "      <th>hire_date</th>\n",
       "      <th>ventes</th>\n",
       "    </tr>\n",
       "  </thead>\n",
       "  <tbody>\n",
       "    <tr>\n",
       "      <th>0</th>\n",
       "      <td>Jane Peacock</td>\n",
       "      <td>Canada</td>\n",
       "      <td>Sales Support Agent</td>\n",
       "      <td>2017-04-01 00:00:00</td>\n",
       "      <td>1731.51</td>\n",
       "    </tr>\n",
       "    <tr>\n",
       "      <th>1</th>\n",
       "      <td>Margaret Park</td>\n",
       "      <td>Canada</td>\n",
       "      <td>Sales Support Agent</td>\n",
       "      <td>2017-05-03 00:00:00</td>\n",
       "      <td>1584.00</td>\n",
       "    </tr>\n",
       "    <tr>\n",
       "      <th>2</th>\n",
       "      <td>Steve Johnson</td>\n",
       "      <td>Canada</td>\n",
       "      <td>Sales Support Agent</td>\n",
       "      <td>2017-10-17 00:00:00</td>\n",
       "      <td>1393.92</td>\n",
       "    </tr>\n",
       "  </tbody>\n",
       "</table>\n",
       "</div>"
      ],
      "text/plain": [
       "    employe_name employe_country                title            hire_date  \\\n",
       "0   Jane Peacock          Canada  Sales Support Agent  2017-04-01 00:00:00   \n",
       "1  Margaret Park          Canada  Sales Support Agent  2017-05-03 00:00:00   \n",
       "2  Steve Johnson          Canada  Sales Support Agent  2017-10-17 00:00:00   \n",
       "\n",
       "    ventes  \n",
       "0  1731.51  \n",
       "1  1584.00  \n",
       "2  1393.92  "
      ]
     },
     "execution_count": 6,
     "metadata": {},
     "output_type": "execute_result"
    }
   ],
   "source": [
    "q3=\"SELECT employe_name, employe_country, title, hire_date, SUM(depenses_total) ventes FROM depenses_par_cons GROUP BY employe_name ORDER BY ventes DESC;\"\n",
    "top_ventes_employe=run_query(q3)\n",
    "top_ventes_employe"
   ]
  },
  {
   "cell_type": "code",
   "execution_count": 7,
   "metadata": {},
   "outputs": [
    {
     "data": {
      "image/png": "[encoded data removed]",
      "text/plain": [
       "<matplotlib.figure.Figure at 0x7f06d6184710>"
      ]
     },
     "metadata": {},
     "output_type": "display_data"
    }
   ],
   "source": [
    "top_ventes_employe.set_index('employe_name', drop=True, inplace=True)\n",
    "top_ventes_employe.plot.bar()\n",
    "plt.show()"
   ]
  },
  {
   "cell_type": "markdown",
   "metadata": {},
   "source": [
    "Je n'ai pas constaté de réel gap entre les vendeurs. La date d'embauche peut expliquer la variation, on peut produire un scatter plot pour observer s'il y a une corrélation entre la date d'embauche et le montant des ventes => mais on a que 3 valeurs et les scatter plot ne prennent que des valeurs numériques (la date d'embauche est du date time)..."
   ]
  },
  {
   "cell_type": "code",
   "execution_count": 23,
   "metadata": {},
   "outputs": [],
   "source": [
    "c3='''DROP VIEW donnees_vente_pays;'''\n",
    "run_command(c3)\n",
    "#c3=\"select * from donnees_vente_pays;\"\n",
    "#run_query(c3)"
   ]
  },
  {
   "cell_type": "markdown",
   "metadata": {},
   "source": [
    "## Analyser les données de ventes de chaque pays"
   ]
  },
  {
   "cell_type": "code",
   "execution_count": 24,
   "metadata": {},
   "outputs": [],
   "source": [
    "#Cette requête ramène le nombre total de consommateurs par pays, le total des ventes par pays\n",
    "# le montant moyen de vente par consommateurs par pays et le montant moyen d'une commande par pays\n",
    "\n",
    "c4='''\n",
    "    CREATE VIEW donnees_vente_pays AS\n",
    "                        WITH montant_moyen_commande_cons AS\n",
    "                          (SELECT \n",
    "                                 c.customer_id,\n",
    "                                 CASE\n",
    "                                  WHEN (SELECT count(*)\n",
    "                                  FROM customer\n",
    "                                  WHERE country = c.country) = 1 \n",
    "                                  THEN \"Other\"\n",
    "                                  ELSE c.country\n",
    "                                  END AS customer_country,\n",
    "                                 SUM(i.total)/COUNT(i.invoice_id) commande_moyenne       \n",
    "                           FROM customer c \n",
    "                           INNER JOIN invoice i ON c.customer_id=i.customer_id \n",
    "                           GROUP BY c.customer_id)\n",
    "                           \n",
    "                        SELECT m.customer_country,\n",
    "                               COUNT(m.customer_country) customer_nbr, \n",
    "                               SUM(d.depenses_total) total_vente,\n",
    "                               SUM(d.depenses_total)/COUNT(d.customer_id) moyenne_vente_par_cons,\n",
    "                               SUM(m.commande_moyenne)/COUNT(m.commande_moyenne) commande_moyenne_par_pays\n",
    "                         FROM depenses_par_cons d \n",
    "                         INNER JOIN montant_moyen_commande_cons m ON d.customer_id=m.customer_id\n",
    "                         GROUP BY m.customer_country;'''\n",
    "\n",
    "run_command(c4)"
   ]
  },
  {
   "cell_type": "code",
   "execution_count": 6,
   "metadata": {},
   "outputs": [
    {
     "data": {
      "text/html": [
       "<div>\n",
       "<style scoped>\n",
       "    .dataframe tbody tr th:only-of-type {\n",
       "        vertical-align: middle;\n",
       "    }\n",
       "\n",
       "    .dataframe tbody tr th {\n",
       "        vertical-align: top;\n",
       "    }\n",
       "\n",
       "    .dataframe thead th {\n",
       "        text-align: right;\n",
       "    }\n",
       "</style>\n",
       "<table border=\"1\" class=\"dataframe\">\n",
       "  <thead>\n",
       "    <tr style=\"text-align: right;\">\n",
       "      <th></th>\n",
       "      <th>customer_country</th>\n",
       "      <th>customer_nbr</th>\n",
       "      <th>total_vente</th>\n",
       "      <th>commande_moyenne_par_pays</th>\n",
       "      <th>moyenne_vente_par_cons</th>\n",
       "    </tr>\n",
       "  </thead>\n",
       "  <tbody>\n",
       "    <tr>\n",
       "      <th>0</th>\n",
       "      <td>USA</td>\n",
       "      <td>13</td>\n",
       "      <td>1040.49</td>\n",
       "      <td>8.014750</td>\n",
       "      <td>80.037692</td>\n",
       "    </tr>\n",
       "    <tr>\n",
       "      <th>1</th>\n",
       "      <td>Canada</td>\n",
       "      <td>8</td>\n",
       "      <td>535.59</td>\n",
       "      <td>7.416238</td>\n",
       "      <td>66.948750</td>\n",
       "    </tr>\n",
       "    <tr>\n",
       "      <th>2</th>\n",
       "      <td>Brazil</td>\n",
       "      <td>5</td>\n",
       "      <td>427.68</td>\n",
       "      <td>6.987485</td>\n",
       "      <td>85.536000</td>\n",
       "    </tr>\n",
       "    <tr>\n",
       "      <th>3</th>\n",
       "      <td>France</td>\n",
       "      <td>5</td>\n",
       "      <td>389.07</td>\n",
       "      <td>7.835000</td>\n",
       "      <td>77.814000</td>\n",
       "    </tr>\n",
       "    <tr>\n",
       "      <th>4</th>\n",
       "      <td>Germany</td>\n",
       "      <td>4</td>\n",
       "      <td>334.62</td>\n",
       "      <td>8.188750</td>\n",
       "      <td>83.655000</td>\n",
       "    </tr>\n",
       "    <tr>\n",
       "      <th>5</th>\n",
       "      <td>Czech Republic</td>\n",
       "      <td>2</td>\n",
       "      <td>273.24</td>\n",
       "      <td>9.377500</td>\n",
       "      <td>136.620000</td>\n",
       "    </tr>\n",
       "    <tr>\n",
       "      <th>6</th>\n",
       "      <td>United Kingdom</td>\n",
       "      <td>3</td>\n",
       "      <td>245.52</td>\n",
       "      <td>8.749583</td>\n",
       "      <td>81.840000</td>\n",
       "    </tr>\n",
       "    <tr>\n",
       "      <th>7</th>\n",
       "      <td>Portugal</td>\n",
       "      <td>2</td>\n",
       "      <td>185.13</td>\n",
       "      <td>6.527813</td>\n",
       "      <td>92.565000</td>\n",
       "    </tr>\n",
       "    <tr>\n",
       "      <th>8</th>\n",
       "      <td>India</td>\n",
       "      <td>2</td>\n",
       "      <td>183.15</td>\n",
       "      <td>8.757692</td>\n",
       "      <td>91.575000</td>\n",
       "    </tr>\n",
       "    <tr>\n",
       "      <th>9</th>\n",
       "      <td>Other</td>\n",
       "      <td>15</td>\n",
       "      <td>1094.94</td>\n",
       "      <td>7.445071</td>\n",
       "      <td>72.996000</td>\n",
       "    </tr>\n",
       "  </tbody>\n",
       "</table>\n",
       "</div>"
      ],
      "text/plain": [
       "  customer_country  customer_nbr  total_vente  commande_moyenne_par_pays  \\\n",
       "0              USA            13      1040.49                   8.014750   \n",
       "1           Canada             8       535.59                   7.416238   \n",
       "2           Brazil             5       427.68                   6.987485   \n",
       "3           France             5       389.07                   7.835000   \n",
       "4          Germany             4       334.62                   8.188750   \n",
       "5   Czech Republic             2       273.24                   9.377500   \n",
       "6   United Kingdom             3       245.52                   8.749583   \n",
       "7         Portugal             2       185.13                   6.527813   \n",
       "8            India             2       183.15                   8.757692   \n",
       "9            Other            15      1094.94                   7.445071   \n",
       "\n",
       "   moyenne_vente_par_cons  \n",
       "0               80.037692  \n",
       "1               66.948750  \n",
       "2               85.536000  \n",
       "3               77.814000  \n",
       "4               83.655000  \n",
       "5              136.620000  \n",
       "6               81.840000  \n",
       "7               92.565000  \n",
       "8               91.575000  \n",
       "9               72.996000  "
      ]
     },
     "execution_count": 6,
     "metadata": {},
     "output_type": "execute_result"
    }
   ],
   "source": [
    "#Table récapitulative sortant les données par ordre décroissant du nombre total des ventes \n",
    "#en forçant les pays ayant un seul consommateur en bas de liste\n",
    "q4='SELECT * FROM donnees_vente_pays;'\n",
    "\n",
    "q5='''\n",
    "SELECT\n",
    "    customer_country,\n",
    "    CASE WHEN customer_nbr=1\n",
    "         THEN (SELECT COUNT(*) FROM donnees_vente_pays WHERE customer_country=\"Other\")\n",
    "         ELSE customer_nbr\n",
    "         END AS customer_nbr,\n",
    "    total_vente,\n",
    "    commande_moyenne_par_pays,\n",
    "    moyenne_vente_par_cons\n",
    "FROM\n",
    "    (\n",
    "    SELECT\n",
    "        dv.*,\n",
    "        CASE\n",
    "            WHEN dv.customer_country = \"Other\" THEN 1\n",
    "            ELSE 0\n",
    "        END AS autres\n",
    "    FROM donnees_vente_pays dv\n",
    "    ORDER BY dv.total_vente DESC\n",
    "   )\n",
    "GROUP BY (customer_country)\n",
    "ORDER BY autres ASC, total_vente DESC\n",
    "'''\n",
    "donnees_vente_pays=run_query(q5)\n",
    "donnees_vente_pays"
   ]
  },
  {
   "cell_type": "markdown",
   "metadata": {
    "collapsed": true
   },
   "source": [
    "Je constate un petit biais dans la valeur moyenne d'une pays par pays, mais je crois que cela est dû à l'arrondi, moi j'ai calculé avec la somme totale\n",
    "et le gars du correctif l'a fait avec les sommes unitaires. Mais je crois que c'est négligeable puisque cela respecte les proportions => poursuivons donc sur les visualisations"
   ]
  },
  {
   "cell_type": "code",
   "execution_count": 34,
   "metadata": {},
   "outputs": [],
   "source": [
    "#donnees_vente_pays"
   ]
  },
  {
   "cell_type": "markdown",
   "metadata": {},
   "source": [
    "Je rencontre des difficultés à l'exercice de la représentation des données et quelques fois à la \n",
    "compréhension de ce qui est demandé => poursuite ce travail avec la fiche correction\n",
    "surtout les figures et corriger également la précédente requête (colonne moyenne_vente_par_cons et commande_moyenne_par_pays) **(fait)**"
   ]
  },
  {
   "cell_type": "markdown",
   "metadata": {},
   "source": [
    "## Les représentations des données de ventes par pays"
   ]
  },
  {
   "cell_type": "code",
   "execution_count": 22,
   "metadata": {},
   "outputs": [],
   "source": [
    "#Je copie dans un autre dataframe le résultat de la requête q5\n",
    "visu_donnees_vente=donnees_vente_pays\n",
    "\n",
    "#Je place la colonne pays en tant qu'index du df\n",
    "visu_donnees_vente.set_index('customer_country', drop=True, inplace=True)\n"
   ]
  },
  {
   "cell_type": "code",
   "execution_count": 29,
   "metadata": {},
   "outputs": [
    {
     "data": {
      "image/png": "[encoded data removed]",
      "text/plain": [
       "<matplotlib.figure.Figure at 0x7efd6c87b9e8>"
      ]
     },
     "metadata": {},
     "output_type": "display_data"
    }
   ],
   "source": [
    "#Je créé une grille de 4 figures representant chacune une dimension de mes ventes\n",
    "#figsize(largeur, hauteur) en pouces\n",
    "fig = plt.figure(figsize=(12, 12))\n",
    "#ajuste les contours des graphiques de la grille, ici espace entre les graphes en haut (height space)\n",
    "# et sur les côtés (widht space) \n",
    "fig.subplots_adjust(hspace=.5, wspace=.3)\n",
    "\n",
    "#On choisit les couleurs (4)\n",
    "#cm=colormap biblio de matplotlib et accent est un colormap (jeu de couleur)\n",
    "#pour i appartenant à une plage de nombre [ici 4 car la dimension de la 1ère ligne de \n",
    "#visu_donnees_vente=4]également répartis entre 0 et 1 => en gros on choisis 4 couleurs également \n",
    "#positionnées sur le camaieu de couleurs de Accent.\n",
    "colors = [plt.cm.Accent(i) for i in np.linspace(0, 1, visu_donnees_vente.shape[0])]\n",
    "#Je dessine chacune de mes figures\n",
    "\n",
    "#1ere figure = Nombre de consommateurs (pie chart)\n",
    "ax1 = fig.add_subplot(2,2,1)\n",
    "#ax1.flatten() => je n'en ai pas besoin puisque je travaille les figures une à une, si j'avais \n",
    "#déclaré la grille(fig) et les axes globalement, le flatten permet de les considérer 1 à 1\n",
    "nbr_conso = visu_donnees_vente[\"customer_nbr\"].copy().rename('')\n",
    "nbr_conso.plot.pie(\n",
    "    ax=ax1,\n",
    "    startangle=-90,\n",
    "    counterclock=False,\n",
    "    title='Ventes par pays,\\nNombre de consommateurs',\n",
    "    colormap=plt.cm.Accent,\n",
    "    fontsize=8,\n",
    "    wedgeprops={'linewidth':0})\n",
    "\n",
    "#2eme figure = total ventes par pays (graphiques de barres)\n",
    "ax2 = fig.add_subplot(2,2,2)\n",
    "cols = [\"customer_nbr\",\"total_vente\"]\n",
    "total_ventes = visu_donnees_vente[cols].copy()\n",
    "total_ventes.index.name = ''\n",
    "for c in cols:\n",
    "    total_ventes[c] /= total_ventes[c].sum() / 100\n",
    "total_ventes.plot.bar(\n",
    "    ax=ax2,\n",
    "    colormap=plt.cm.Set1,\n",
    "    title=\"Pct de cons vs ventes\"\n",
    ")\n",
    "ax2.tick_params(top=\"off\", right=\"off\", left=\"off\", bottom=\"off\")\n",
    "ax2.spines[\"top\"].set_visible(False)\n",
    "ax2.spines[\"right\"].set_visible(False)\n",
    "\n",
    "#3eme figure (graphique de barres inversé)\n",
    "ax3 = fig.add_subplot(2,2,3)\n",
    "commande_moy_cons = visu_donnees_vente[\"commande_moyenne_par_pays\"].copy()\n",
    "commande_moy_cons.index.name = ''\n",
    "difference_par_rapp_moy = commande_moy_cons * 100 / commande_moy_cons.mean() - 100\n",
    "difference_par_rapp_moy.drop(\"Other\", inplace=True)\n",
    "difference_par_rapp_moy.plot.bar(\n",
    "    ax=ax3,\n",
    "    color=colors,\n",
    "    title=\"Commande moyenne,\\n en pct par rapport à la moyenne\"\n",
    ")\n",
    "ax3.tick_params(top=\"off\", right=\"off\", left=\"off\", bottom=\"off\")\n",
    "ax3.axhline(0, color='k')\n",
    "ax3.spines[\"top\"].set_visible(False)\n",
    "ax3.spines[\"right\"].set_visible(False)\n",
    "ax3.spines[\"bottom\"].set_visible(False)\n",
    "\n",
    "#4eme figure graphique de bar\n",
    "ax4 = fig.add_subplot(2,2,4)\n",
    "vente_par_cons = visu_donnees_vente[\"moyenne_vente_par_cons\"].copy()\n",
    "vente_par_cons.index.name = ''\n",
    "vente_par_cons.drop(\"Other\",inplace=True)\n",
    "vente_par_cons.plot.bar(\n",
    "    ax=ax4,\n",
    "    color=colors,\n",
    "    title=\"Moyenne de vente par consommateur, Dollars\"\n",
    ")\n",
    "ax4.tick_params(top=\"off\", right=\"off\", left=\"off\", bottom=\"off\")\n",
    "ax4.spines[\"top\"].set_visible(False)\n",
    "ax4.spines[\"right\"].set_visible(False)\n",
    "\n",
    "plt.show()"
   ]
  },
  {
   "cell_type": "markdown",
   "metadata": {
    "collapsed": true
   },
   "source": [
    "### Les conclusions"
   ]
  },
  {
   "cell_type": "markdown",
   "metadata": {},
   "source": [
    "Il y a des opportunités dans les pays ci-dessous :\n",
    "\n",
    "* Czech Republic\n",
    "* United Kingdom\n",
    "* India\n",
    "\n",
    "car malgré le moindre nombre de consommateurs, les ventes ne sont pas mal. Mais il faut être précautionneux car c'est ce même nombre restreint de consommateurs qui pourrait être un effet ponctuel et non une tendance générale.\n",
    "Il est possible de procéder par petites touches de pub pour voir comment les gens réagissent."
   ]
  },
  {
   "cell_type": "markdown",
   "metadata": {},
   "source": [
    "## Catégoriser les factures en achats d'album ou pas "
   ]
  },
  {
   "cell_type": "code",
   "execution_count": 8,
   "metadata": {},
   "outputs": [],
   "source": [
    "#test=''''''\n",
    "#tst=run_query(test)\n",
    "#tst"
   ]
  },
  {
   "cell_type": "code",
   "execution_count": 7,
   "metadata": {},
   "outputs": [
    {
     "data": {
      "text/html": [
       "<div>\n",
       "<style scoped>\n",
       "    .dataframe tbody tr th:only-of-type {\n",
       "        vertical-align: middle;\n",
       "    }\n",
       "\n",
       "    .dataframe tbody tr th {\n",
       "        vertical-align: top;\n",
       "    }\n",
       "\n",
       "    .dataframe thead th {\n",
       "        text-align: right;\n",
       "    }\n",
       "</style>\n",
       "<table border=\"1\" class=\"dataframe\">\n",
       "  <thead>\n",
       "    <tr style=\"text-align: right;\">\n",
       "      <th></th>\n",
       "      <th>is_album_purchase</th>\n",
       "      <th>nbr_invoices_album</th>\n",
       "      <th>pct_invoice_album</th>\n",
       "    </tr>\n",
       "  </thead>\n",
       "  <tbody>\n",
       "    <tr>\n",
       "      <th>0</th>\n",
       "      <td>no</td>\n",
       "      <td>500</td>\n",
       "      <td>81.433225</td>\n",
       "    </tr>\n",
       "    <tr>\n",
       "      <th>1</th>\n",
       "      <td>yes</td>\n",
       "      <td>114</td>\n",
       "      <td>18.566775</td>\n",
       "    </tr>\n",
       "  </tbody>\n",
       "</table>\n",
       "</div>"
      ],
      "text/plain": [
       "  is_album_purchase  nbr_invoices_album  pct_invoice_album\n",
       "0                no                 500          81.433225\n",
       "1               yes                 114          18.566775"
      ]
     },
     "execution_count": 7,
     "metadata": {},
     "output_type": "execute_result"
    }
   ],
   "source": [
    "q6 = '''\n",
    "WITH \n",
    "   album_list_tracks AS\n",
    "     (SELECT a.album_id,\n",
    "             t.track_id\n",
    "      FROM album a \n",
    "      INNER JOIN track t ON a.album_id=t.album_id),\n",
    "      \n",
    "   invoice_list_tracks AS\n",
    "      (SELECT i.invoice_id,\n",
    "              t.track_id,\n",
    "              a.album_id\n",
    "       FROM invoice i \n",
    "       INNER JOIN invoice_line il ON i.invoice_id=il.invoice_id\n",
    "       INNER JOIN track t ON il.track_id=t.track_id\n",
    "       LEFT JOIN album a ON a.album_id=t.album_id),\n",
    "       \n",
    "   add_column_album AS\n",
    "      (SELECT i.invoice_id,\n",
    "              CASE WHEN ((SELECT al.track_id \n",
    "                          FROM album_list_tracks al \n",
    "                          WHERE al.album_id=(SELECT MIN(il.album_id) FROM invoice_list_tracks il\n",
    "                                             WHERE il.invoice_id=i.invoice_id GROUP BY il.invoice_id)\n",
    "                          EXCEPT\n",
    "                          SELECT il.track_id\n",
    "                          FROM invoice_list_tracks il\n",
    "                          WHERE il.invoice_id=i.invoice_id) IS NULL\n",
    "                          AND\n",
    "                         (SELECT il.track_id\n",
    "                          FROM invoice_list_tracks il\n",
    "                          WHERE il.invoice_id=i.invoice_id\n",
    "                          EXCEPT\n",
    "                          SELECT al.track_id \n",
    "                          FROM album_list_tracks al \n",
    "                          WHERE al.album_id=(SELECT MIN(il.album_id) FROM invoice_list_tracks il\n",
    "                                             WHERE il.invoice_id=i.invoice_id GROUP BY il.invoice_id)) IS NULL) \n",
    "                   THEN 'yes'\n",
    "                   ELSE 'no'\n",
    "            END AS is_album_purchase\n",
    "        FROM invoice i)\n",
    "\n",
    "SELECT \n",
    "     ac.is_album_purchase,\n",
    "     COUNT(ac.is_album_purchase) nbr_invoices_album,\n",
    "     (CAST(COUNT(ac.is_album_purchase) as float)/(SELECT CAST(COUNT(*) as float) FROM add_column_album))*100 pct_invoice_album   \n",
    "FROM add_column_album ac\n",
    "GROUP BY ac.is_album_purchase;  \n",
    "'''\n",
    "ventes_album=run_query(q6)\n",
    "ventes_album"
   ]
  },
  {
   "cell_type": "markdown",
   "metadata": {
    "collapsed": true
   },
   "source": [
    "## Victoire!!! i understood how to manage it !!!!"
   ]
  },
  {
   "cell_type": "markdown",
   "metadata": {
    "collapsed": true
   },
   "source": [
    "Une des clés une fois qu'on a trouvé comment calculer les sous-ensembles à comparer (liste de tous les sons d'une facture + liste de tous les sons de l'album correspondant au premier album acheté sur la facture')', c'est d'utiliser l'id de facture de l'outer requête "
   ]
  },
  {
   "cell_type": "code",
   "execution_count": null,
   "metadata": {
    "collapsed": true
   },
   "outputs": [],
   "source": []
  }
 ],
 "metadata": {
  "kernelspec": {
   "display_name": "Python 3",
   "language": "python",
   "name": "python3"
  },
  "language_info": {
   "codemirror_mode": {
    "name": "ipython",
    "version": 3
   },
   "file_extension": ".py",
   "mimetype": "text/x-python",
   "name": "python",
   "nbconvert_exporter": "python",
   "pygments_lexer": "ipython3",
   "version": "3.7.3"
  }
 },
 "nbformat": 4,
 "nbformat_minor": 2
}
